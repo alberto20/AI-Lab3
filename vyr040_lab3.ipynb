{
  "nbformat": 4,
  "nbformat_minor": 0,
  "metadata": {
    "colab": {
      "provenance": [],
      "toc_visible": true,
      "include_colab_link": true
    },
    "kernelspec": {
      "name": "python3",
      "display_name": "Python 3"
    }
  },
  "cells": [
    {
      "cell_type": "markdown",
      "metadata": {
        "id": "view-in-github",
        "colab_type": "text"
      },
      "source": [
        "<a href=\"https://colab.research.google.com/github/alberto20/AI-Lab3/blob/master/vyr040_lab3.ipynb\" target=\"_parent\"><img src=\"https://colab.research.google.com/assets/colab-badge.svg\" alt=\"Open In Colab\"/></a>"
      ]
    },
    {
      "cell_type": "markdown",
      "metadata": {
        "id": "Jh0ZuLfsHFPV"
      },
      "source": [
        "Question 1: Data"
      ]
    },
    {
      "cell_type": "code",
      "metadata": {
        "id": "3ZtsPEg0G9Ho",
        "outputId": "05d28fa9-4f7d-43e8-b0dc-873ed9064e44",
        "colab": {
          "base_uri": "https://localhost:8080/",
          "height": 400
        }
      },
      "source": [
        "from PIL import Image\n",
        "import glob\n",
        "import cv2\n",
        "import zipfile\n",
        "import os\n",
        "import matplotlib.pyplot as plt\n",
        "from __future__ import print_function\n",
        "import keras\n",
        "from keras.datasets import mnist\n",
        "from keras.layers import Dense, Flatten\n",
        "from keras.layers import Conv2D, MaxPooling2D\n",
        "from keras.models import Sequential\n",
        "import matplotlib.pylab as plt\n",
        "import pandas as pd\n",
        "from sklearn import datasets, linear_model\n",
        "from sklearn.model_selection import train_test_split\n",
        "import numpy as np\n",
        "from sklearn.preprocessing import LabelEncoder\n",
        "\n",
        "#zip_ref = zipfile.ZipFile(\"data-lab3.zip\", 'r')\n",
        "#zip_ref.extractall()\n",
        "x = []\n",
        "y = []\n",
        "labeltypes = []\n",
        "folders = glob.glob('data-lab3/data-lab3/*')\n",
        "\n",
        "for folders in folders:\n",
        "  for image in os.listdir(folders):\n",
        "    img = cv2.imread(os.path.join(folders, image))\n",
        "    compare = str(type(img))\n",
        "    tokenM = []\n",
        "    tokenM = folders.split('/')\n",
        "    tmpfolders = tokenM[1]\n",
        "    if compare == '<class \\'numpy.ndarray\\'>':\n",
        "      img = cv2.resize(img,(150,150))\n",
        "      if img is not None:\n",
        "        x.append(img)\n",
        "        y.append(tmpfolders)\n",
        "  tokenM = []\n",
        "  tokenM = folders.split('/')\n",
        "  tmpfolders = tokenM[1]\n",
        "  labeltypes.append(tmpfolders)\n",
        "\n",
        "#print(labeltypes)\n",
        "\n",
        "y_true = y\n",
        "\n",
        "#print(y_true[0])\n",
        "x = np.array(x)\n",
        "y = np.array(y)\n",
        "\n",
        "#print(len(x))\n",
        "#print(len(y))\n",
        "\n",
        "#plt.figure()\n",
        "#plt.imshow(x[0])\n",
        "#plt.show\n",
        "\n",
        "num_classes = 2\n",
        "epochs = 2\n",
        "\n",
        "x_train, x_test, y_train, y_test = train_test_split(x, y, test_size=0.25)\n",
        "\n",
        "input_shape = (150, 150, 3)\n",
        "\n",
        "# data cleaning\n",
        "x_train = x_train.astype('float32')\n",
        "x_test  = x_test.astype('float32')\n",
        "x_train /= 255\n",
        "x_test  /= 255\n",
        "\n",
        "#print(traindogcnt)\n",
        "#print(traincatcnt)\n",
        "\n",
        "encoder = LabelEncoder()\n",
        "g_ytrain = y_train\n",
        "g_ytest = y_test\n",
        "\n",
        "y_train = encoder.fit_transform(y_train)\n",
        "y_test = encoder.fit_transform(y_test)\n",
        "y_true = y_test\n",
        "\n",
        "# gut check our values and sizes\n",
        "print( 'x train shape', x_train.shape )\n",
        "print( 'training samples: ', x_train.shape[0] )\n",
        "print( 'testing samples: ', x_test.shape[0] )\n",
        "\n",
        "y_train = keras.utils.to_categorical(y_train, 2)\n",
        "y_test = keras.utils.to_categorical(y_test, 2)\n",
        "\n",
        "print( 'categorical example: ', y_test[0] )\n",
        "\n",
        "dogs = [int(np.sum(g_ytrain == 'dog')), int(np.sum(g_ytest == 'dog'))]\n",
        "cats = [int(np.sum(g_ytrain == 'cat')), int(np.sum(g_ytest == 'cat'))]\n",
        "\n",
        "plt.bar(np.arange(2), dogs, .35)\n",
        "plt.bar(np.arange(2)+ .35, cats, .35)\n",
        "plt.xticks(np.arange(2), ('Testing', 'Training'))\n",
        "plt.xlabel('Training vs Testing Data', fontsize = 16)\n",
        "plt.ylabel('Count of Images', fontsize = 16)\n",
        "plt.legend(['dogs', 'cats'])\n",
        "plt.show\n",
        "\n",
        "\n"
      ],
      "execution_count": null,
      "outputs": [
        {
          "output_type": "error",
          "ename": "ValueError",
          "evalue": "With n_samples=0, test_size=0.25 and train_size=None, the resulting train set will be empty. Adjust any of the aforementioned parameters.",
          "traceback": [
            "\u001b[0;31m---------------------------------------------------------------------------\u001b[0m",
            "\u001b[0;31mValueError\u001b[0m                                Traceback (most recent call last)",
            "\u001b[0;32m/tmp/ipython-input-1-204923246.py\u001b[0m in \u001b[0;36m<cell line: 0>\u001b[0;34m()\u001b[0m\n\u001b[1;32m     60\u001b[0m \u001b[0mepochs\u001b[0m \u001b[0;34m=\u001b[0m \u001b[0;36m2\u001b[0m\u001b[0;34m\u001b[0m\u001b[0;34m\u001b[0m\u001b[0m\n\u001b[1;32m     61\u001b[0m \u001b[0;34m\u001b[0m\u001b[0m\n\u001b[0;32m---> 62\u001b[0;31m \u001b[0mx_train\u001b[0m\u001b[0;34m,\u001b[0m \u001b[0mx_test\u001b[0m\u001b[0;34m,\u001b[0m \u001b[0my_train\u001b[0m\u001b[0;34m,\u001b[0m \u001b[0my_test\u001b[0m \u001b[0;34m=\u001b[0m \u001b[0mtrain_test_split\u001b[0m\u001b[0;34m(\u001b[0m\u001b[0mx\u001b[0m\u001b[0;34m,\u001b[0m \u001b[0my\u001b[0m\u001b[0;34m,\u001b[0m \u001b[0mtest_size\u001b[0m\u001b[0;34m=\u001b[0m\u001b[0;36m0.25\u001b[0m\u001b[0;34m)\u001b[0m\u001b[0;34m\u001b[0m\u001b[0;34m\u001b[0m\u001b[0m\n\u001b[0m\u001b[1;32m     63\u001b[0m \u001b[0;34m\u001b[0m\u001b[0m\n\u001b[1;32m     64\u001b[0m \u001b[0minput_shape\u001b[0m \u001b[0;34m=\u001b[0m \u001b[0;34m(\u001b[0m\u001b[0;36m150\u001b[0m\u001b[0;34m,\u001b[0m \u001b[0;36m150\u001b[0m\u001b[0;34m,\u001b[0m \u001b[0;36m3\u001b[0m\u001b[0;34m)\u001b[0m\u001b[0;34m\u001b[0m\u001b[0;34m\u001b[0m\u001b[0m\n",
            "\u001b[0;32m/usr/local/lib/python3.11/dist-packages/sklearn/utils/_param_validation.py\u001b[0m in \u001b[0;36mwrapper\u001b[0;34m(*args, **kwargs)\u001b[0m\n\u001b[1;32m    214\u001b[0m                     )\n\u001b[1;32m    215\u001b[0m                 ):\n\u001b[0;32m--> 216\u001b[0;31m                     \u001b[0;32mreturn\u001b[0m \u001b[0mfunc\u001b[0m\u001b[0;34m(\u001b[0m\u001b[0;34m*\u001b[0m\u001b[0margs\u001b[0m\u001b[0;34m,\u001b[0m \u001b[0;34m**\u001b[0m\u001b[0mkwargs\u001b[0m\u001b[0;34m)\u001b[0m\u001b[0;34m\u001b[0m\u001b[0;34m\u001b[0m\u001b[0m\n\u001b[0m\u001b[1;32m    217\u001b[0m             \u001b[0;32mexcept\u001b[0m \u001b[0mInvalidParameterError\u001b[0m \u001b[0;32mas\u001b[0m \u001b[0me\u001b[0m\u001b[0;34m:\u001b[0m\u001b[0;34m\u001b[0m\u001b[0;34m\u001b[0m\u001b[0m\n\u001b[1;32m    218\u001b[0m                 \u001b[0;31m# When the function is just a wrapper around an estimator, we allow\u001b[0m\u001b[0;34m\u001b[0m\u001b[0;34m\u001b[0m\u001b[0m\n",
            "\u001b[0;32m/usr/local/lib/python3.11/dist-packages/sklearn/model_selection/_split.py\u001b[0m in \u001b[0;36mtrain_test_split\u001b[0;34m(test_size, train_size, random_state, shuffle, stratify, *arrays)\u001b[0m\n\u001b[1;32m   2849\u001b[0m \u001b[0;34m\u001b[0m\u001b[0m\n\u001b[1;32m   2850\u001b[0m     \u001b[0mn_samples\u001b[0m \u001b[0;34m=\u001b[0m \u001b[0m_num_samples\u001b[0m\u001b[0;34m(\u001b[0m\u001b[0marrays\u001b[0m\u001b[0;34m[\u001b[0m\u001b[0;36m0\u001b[0m\u001b[0;34m]\u001b[0m\u001b[0;34m)\u001b[0m\u001b[0;34m\u001b[0m\u001b[0;34m\u001b[0m\u001b[0m\n\u001b[0;32m-> 2851\u001b[0;31m     n_train, n_test = _validate_shuffle_split(\n\u001b[0m\u001b[1;32m   2852\u001b[0m         \u001b[0mn_samples\u001b[0m\u001b[0;34m,\u001b[0m \u001b[0mtest_size\u001b[0m\u001b[0;34m,\u001b[0m \u001b[0mtrain_size\u001b[0m\u001b[0;34m,\u001b[0m \u001b[0mdefault_test_size\u001b[0m\u001b[0;34m=\u001b[0m\u001b[0;36m0.25\u001b[0m\u001b[0;34m\u001b[0m\u001b[0;34m\u001b[0m\u001b[0m\n\u001b[1;32m   2853\u001b[0m     )\n",
            "\u001b[0;32m/usr/local/lib/python3.11/dist-packages/sklearn/model_selection/_split.py\u001b[0m in \u001b[0;36m_validate_shuffle_split\u001b[0;34m(n_samples, test_size, train_size, default_test_size)\u001b[0m\n\u001b[1;32m   2479\u001b[0m \u001b[0;34m\u001b[0m\u001b[0m\n\u001b[1;32m   2480\u001b[0m     \u001b[0;32mif\u001b[0m \u001b[0mn_train\u001b[0m \u001b[0;34m==\u001b[0m \u001b[0;36m0\u001b[0m\u001b[0;34m:\u001b[0m\u001b[0;34m\u001b[0m\u001b[0;34m\u001b[0m\u001b[0m\n\u001b[0;32m-> 2481\u001b[0;31m         raise ValueError(\n\u001b[0m\u001b[1;32m   2482\u001b[0m             \u001b[0;34m\"With n_samples={}, test_size={} and train_size={}, the \"\u001b[0m\u001b[0;34m\u001b[0m\u001b[0;34m\u001b[0m\u001b[0m\n\u001b[1;32m   2483\u001b[0m             \u001b[0;34m\"resulting train set will be empty. Adjust any of the \"\u001b[0m\u001b[0;34m\u001b[0m\u001b[0;34m\u001b[0m\u001b[0m\n",
            "\u001b[0;31mValueError\u001b[0m: With n_samples=0, test_size=0.25 and train_size=None, the resulting train set will be empty. Adjust any of the aforementioned parameters."
          ]
        }
      ]
    },
    {
      "cell_type": "markdown",
      "metadata": {
        "id": "UJoxkEALd7rg"
      },
      "source": [
        "Question 2: Classification"
      ]
    },
    {
      "cell_type": "code",
      "metadata": {
        "id": "L-u9AOdHvaW-",
        "outputId": "e12428ec-6e23-4d1a-b40b-2dbc1fd90e89",
        "colab": {
          "base_uri": "https://localhost:8080/",
          "height": 293
        }
      },
      "source": [
        "from keras import optimizers\n",
        "from keras import losses\n",
        "\n",
        "model = Sequential()\n",
        "model.add( Conv2D( 32, kernel_size=(5,5), strides=(1,1), activation='relu', input_shape=input_shape ) ) # conv\n",
        "model.add( MaxPooling2D(pool_size=(2,2), strides=(2,2)) ) # pool\n",
        "model.add( Flatten() ) # flatten\n",
        "model.add( Dense(num_classes, activation='softmax') ) # dense\n",
        "\n",
        "\n",
        "model.summary()"
      ],
      "execution_count": null,
      "outputs": [
        {
          "output_type": "stream",
          "text": [
            "_________________________________________________________________\n",
            "Layer (type)                 Output Shape              Param #   \n",
            "=================================================================\n",
            "conv2d_4 (Conv2D)            (None, 146, 146, 32)      2432      \n",
            "_________________________________________________________________\n",
            "max_pooling2d_4 (MaxPooling2 (None, 73, 73, 32)        0         \n",
            "_________________________________________________________________\n",
            "flatten_4 (Flatten)          (None, 170528)            0         \n",
            "_________________________________________________________________\n",
            "dense_4 (Dense)              (None, 2)                 341058    \n",
            "=================================================================\n",
            "Total params: 343,490\n",
            "Trainable params: 343,490\n",
            "Non-trainable params: 0\n",
            "_________________________________________________________________\n"
          ],
          "name": "stdout"
        }
      ]
    },
    {
      "cell_type": "code",
      "metadata": {
        "id": "KCIlTOvDrAwZ",
        "outputId": "e3675767-62fa-4453-818d-fa9c9996f637",
        "colab": {
          "base_uri": "https://localhost:8080/",
          "height": 166
        }
      },
      "source": [
        "model.compile( loss='binary_crossentropy',\n",
        "             optimizer='SGD',\n",
        "             metrics=['accuracy'])\n",
        "\n",
        "model.fit( x_train, y_train,\n",
        "         epochs=epochs,\n",
        "         verbose=1,\n",
        "         validation_data=(x_test,y_test))\n",
        "\n",
        "score = model.evaluate( x_test, y_test, verbose=0 )\n",
        "print( 'test loss: ', score[0] )\n",
        "print( 'test acc: ', score[1] )"
      ],
      "execution_count": null,
      "outputs": [
        {
          "output_type": "stream",
          "text": [
            "Train on 5538 samples, validate on 1846 samples\n",
            "Epoch 1/2\n",
            "5538/5538 [==============================] - 203s 37ms/step - loss: 0.6766 - acc: 0.6714 - val_loss: 0.5965 - val_acc: 0.6750\n",
            "Epoch 2/2\n",
            "5538/5538 [==============================] - 204s 37ms/step - loss: 0.5909 - acc: 0.6809 - val_loss: 0.6319 - val_acc: 0.6788\n",
            "test loss:  0.6318583586621517\n",
            "test acc:  0.6787648972039104\n"
          ],
          "name": "stdout"
        }
      ]
    },
    {
      "cell_type": "markdown",
      "metadata": {
        "id": "g3ubg4lxIPgf"
      },
      "source": [
        "Question 3: Evaluation"
      ]
    },
    {
      "cell_type": "code",
      "metadata": {
        "id": "EsyJbic7IRfX",
        "outputId": "a1b73e73-04d3-4a74-e741-3f8c7627cbdb",
        "colab": {
          "base_uri": "https://localhost:8080/",
          "height": 246
        }
      },
      "source": [
        "from sklearn.metrics import classification_report\n",
        "from sklearn import metrics\n",
        "\n",
        "y_pred = model.predict_classes(x_test)\n",
        "y_pred = keras.utils.to_categorical(y_pred, num_classes)\n",
        "\n",
        "y_true = encoder.fit_transform(y_true)\n",
        "\n",
        "y_true = keras.utils.to_categorical(y_true, num_classes)\n",
        "\n",
        "y_pred = np.argmax(y_pred, axis=1)\n",
        "y_true = np.argmax(y_true, axis=1)\n",
        "\n",
        "\n",
        "#print(y_true)\n",
        "\n",
        "target_names =  ['Cat', 'Dog']\n",
        "report = metrics.classification_report(y_true, y_pred)\n",
        "print(report)\n",
        "\n",
        "fpr, tpr, threshold = metrics.roc_curve(y_true, y_pred)\n",
        "roc_auc = metrics.auc(fpr,tpr)\n",
        "plt.title(\"Reciever Operating Characterisitc\")\n",
        "plt.plot(fpr, tpr, 'b', label = 'AUC = %0.2f' % roc_auc)\n",
        "plt.legend(loc = 'lower right')\n",
        "plt.plot([0,1],[0,1], 'r--')\n",
        "plt.xlim([0,1])\n",
        "plt.ylim([0,1])\n",
        "plt.ylabel('True Positive Rate')\n",
        "plt.xlabel('Flase Positive Rate')\n",
        "plt.show"
      ],
      "execution_count": null,
      "outputs": [
        {
          "output_type": "error",
          "ename": "NameError",
          "evalue": "ignored",
          "traceback": [
            "\u001b[0;31m---------------------------------------------------------------------------\u001b[0m",
            "\u001b[0;31mNameError\u001b[0m                                 Traceback (most recent call last)",
            "\u001b[0;32m<ipython-input-1-62eb4559e56d>\u001b[0m in \u001b[0;36m<module>\u001b[0;34m()\u001b[0m\n\u001b[1;32m      2\u001b[0m \u001b[0;32mfrom\u001b[0m \u001b[0msklearn\u001b[0m \u001b[0;32mimport\u001b[0m \u001b[0mmetrics\u001b[0m\u001b[0;34m\u001b[0m\u001b[0;34m\u001b[0m\u001b[0m\n\u001b[1;32m      3\u001b[0m \u001b[0;34m\u001b[0m\u001b[0m\n\u001b[0;32m----> 4\u001b[0;31m \u001b[0my_pred\u001b[0m \u001b[0;34m=\u001b[0m \u001b[0mmodel\u001b[0m\u001b[0;34m.\u001b[0m\u001b[0mpredict_classes\u001b[0m\u001b[0;34m(\u001b[0m\u001b[0mx_test\u001b[0m\u001b[0;34m)\u001b[0m\u001b[0;34m\u001b[0m\u001b[0;34m\u001b[0m\u001b[0m\n\u001b[0m\u001b[1;32m      5\u001b[0m \u001b[0my_pred\u001b[0m \u001b[0;34m=\u001b[0m \u001b[0mkeras\u001b[0m\u001b[0;34m.\u001b[0m\u001b[0mutils\u001b[0m\u001b[0;34m.\u001b[0m\u001b[0mto_categorical\u001b[0m\u001b[0;34m(\u001b[0m\u001b[0my_pred\u001b[0m\u001b[0;34m,\u001b[0m \u001b[0mnum_classes\u001b[0m\u001b[0;34m)\u001b[0m\u001b[0;34m\u001b[0m\u001b[0;34m\u001b[0m\u001b[0m\n\u001b[1;32m      6\u001b[0m \u001b[0;34m\u001b[0m\u001b[0m\n",
            "\u001b[0;31mNameError\u001b[0m: name 'model' is not defined"
          ]
        }
      ]
    }
  ]
}