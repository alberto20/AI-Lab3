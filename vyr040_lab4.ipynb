{
  "nbformat": 4,
  "nbformat_minor": 0,
  "metadata": {
    "colab": {
      "provenance": [],
      "include_colab_link": true
    },
    "kernelspec": {
      "name": "python3",
      "display_name": "Python 3"
    }
  },
  "cells": [
    {
      "cell_type": "markdown",
      "metadata": {
        "id": "view-in-github",
        "colab_type": "text"
      },
      "source": [
        "<a href=\"https://colab.research.google.com/github/alberto20/AI-Lab3/blob/master/vyr040_lab4.ipynb\" target=\"_parent\"><img src=\"https://colab.research.google.com/assets/colab-badge.svg\" alt=\"Open In Colab\"/></a>"
      ]
    },
    {
      "cell_type": "markdown",
      "metadata": {
        "id": "E1MzsETvM7JF"
      },
      "source": [
        "Question 1: Data"
      ]
    },
    {
      "cell_type": "code",
      "metadata": {
        "id": "WOumusonL7qG",
        "colab": {
          "base_uri": "https://localhost:8080/",
          "height": 455
        },
        "outputId": "17db8dc4-74ea-472d-a570-3c1ab0054b0d"
      },
      "source": [
        "import csv\n",
        "import zipfile\n",
        "import os\n",
        "import matplotlib.pyplot as plt\n",
        "import numpy as np\n",
        "from sklearn.feature_extraction.text import CountVectorizer\n",
        "import keras\n",
        "from sklearn.preprocessing import LabelEncoder\n",
        "\n",
        "zip_ref = zipfile.ZipFile(\"data-lab4.zip\", 'r')\n",
        "zip_ref.extractall()\n",
        "\n",
        "x_test = []\n",
        "x_train = []\n",
        "y_train = []\n",
        "y_test = []\n",
        "\n",
        "ntest = 0\n",
        "ptest = 0\n",
        "btest = 0\n",
        "\n",
        "ntrain = 0\n",
        "ptrain = 0\n",
        "btrain = 0\n",
        "\n",
        "g_ytrain = y_train\n",
        "g_ytest = y_test\n",
        "\n",
        "inputFile = csv.reader(open('data-lab4/testing.csv', 'r', encoding = \"ISO-8859 -1\"))\n",
        "\n",
        "for line in inputFile:\n",
        "  y_test.append(line[0])\n",
        "  x_test.append(line[5])\n",
        "  if line[0] == '0':\n",
        "    btest = btest +1\n",
        "  if line[0] == '2':\n",
        "    ntest = ntest +1\n",
        "  if line[0] == '4':\n",
        "    ptest = ptest +1\n",
        "\n",
        "inputFile = csv.reader(open('data-lab4/training.csv', 'r', encoding = \"ISO-8859 -1\"))\n",
        "\n",
        "for line in inputFile:\n",
        "  y_train.append(line[0])\n",
        "  x_train.append(line[5])\n",
        "  if line[0] == '0':\n",
        "    btrain = btrain +1\n",
        "  if line[0] == '2':\n",
        "    ntrain = ntrain +1\n",
        "  if line[0] == '4':\n",
        "    ptrain = ptrain +1\n",
        "\n",
        "total = len(y_train) + len(y_test)\n",
        "\n",
        "print( 'Total samples: ' + str(total) )\n",
        "print( 'Train samples: ' + str(len(y_train)) )\n",
        "print( 'Test samples: ' + str(len(y_test)) )\n",
        "\n",
        "print( 'Data sample: ' + x_test[0])\n",
        "print( 'Value: ' + str(y_test[0]))\n",
        "\n",
        "\n",
        "#print(len(g_ytrain))\n",
        "#print(len(g_ytest))\n",
        "\n",
        "y_train = keras.utils.to_categorical( y_train )\n",
        "y_test = keras.utils.to_categorical( y_test )\n",
        "\n",
        "print( 'categorical example: ', y_test[0] )\n",
        "\n",
        "vectorizer = CountVectorizer( min_df=0, lowercase=False, max_df=0.8, max_features=5000, stop_words='english' )\n",
        "vectorizer.fit( x_test )\n",
        "vectorizer.vocabulary_\n",
        "x_train = vectorizer.transform( x_train )\n",
        "x_test = vectorizer.transform( x_test )\n",
        "\n",
        "Negative = [btrain, btest]\n",
        "Positive = [ptrain, ptest]\n",
        "Nuetral = [ntrain, ntest]\n",
        "\n",
        "#print(Positive)\n",
        "\n",
        "plt.bar(np.arange(2), Negative, .35)\n",
        "plt.bar(np.arange(2)+ .35, Nuetral, .35)\n",
        "plt.bar(np.arange(2)+ .35, Positive, .35)\n",
        "plt.xticks(np.arange(2), ('Testing', 'Training'))\n",
        "plt.xlabel('Training vs Testing Data', fontsize = 16)\n",
        "plt.ylabel('Count of Tweets', fontsize = 16)\n",
        "plt.legend(['Negative', 'Nuetral', 'Positive'])\n",
        "plt.show"
      ],
      "execution_count": null,
      "outputs": [
        {
          "output_type": "stream",
          "text": [
            "Using TensorFlow backend.\n"
          ],
          "name": "stderr"
        },
        {
          "output_type": "stream",
          "text": [
            "Total samples: 1587078\n",
            "Train samples: 1586588\n",
            "Test samples: 490\n",
            "Data sample: @stellargirl I loooooooovvvvvveee my Kindle2. Not that the DX is cool, but the 2 is fantastic in its own right.\n",
            "Value: 4\n",
            "categorical example:  [0. 0. 0. 0. 1.]\n"
          ],
          "name": "stdout"
        },
        {
          "output_type": "execute_result",
          "data": {
            "text/plain": [
              "<function matplotlib.pyplot.show>"
            ]
          },
          "metadata": {
            "tags": []
          },
          "execution_count": 1
        },
        {
          "output_type": "display_data",
          "data": {
            "image/png": "[encoded data removed]",
            "text/plain": [
              "<Figure size 432x288 with 1 Axes>"
            ]
          },
          "metadata": {
            "tags": []
          }
        }
      ]
    },
    {
      "cell_type": "markdown",
      "metadata": {
        "id": "fkUZBczp9jEa"
      },
      "source": [
        "Question 2: Classification"
      ]
    },
    {
      "cell_type": "code",
      "metadata": {
        "id": "iuxlWB719ogr",
        "colab": {
          "base_uri": "https://localhost:8080/",
          "height": 643
        },
        "outputId": "7f827007-0e5b-4fb4-a8b0-aade95b30a28"
      },
      "source": [
        "from keras.models import Sequential\n",
        "from keras import layers\n",
        "\n",
        "input_dim = x_train.shape[1]  # Number of features\n",
        "\n",
        "model = Sequential()\n",
        "model.add()\n",
        "model.add(layers.Dense(10, input_dim=input_dim, activation='relu'))\n",
        "model.add(layers.Dense(5, activation='sigmoid'))\n",
        "\n",
        "model.compile(loss=keras.losses.categorical_crossentropy,\n",
        "              optimizer=keras.optimizers.SGD(),\n",
        "              metrics=['accuracy'])\n",
        "\n",
        "model.summary()\n",
        "\n",
        "model.fit(x_train, y_train,\n",
        "          epochs=5,\n",
        "          verbose=1,\n",
        "          validation_data=(x_test, y_test),\n",
        "          batch_size=35, shuffle=True)\n",
        "\n",
        "print()\n",
        "loss, accuracy = model.evaluate(x_train, y_train, verbose=True)\n",
        "print(\"Training Accuracy: {:.4f}\".format(accuracy))\n",
        "\n",
        "loss, accuracy = model.evaluate(x_test, y_test, verbose=True)\n",
        "print(\"Testing Accuracy:  {:.4f}\".format(accuracy))"
      ],
      "execution_count": null,
      "outputs": [
        {
          "output_type": "stream",
          "text": [
            "WARNING:tensorflow:From /usr/local/lib/python3.6/dist-packages/tensorflow/python/framework/op_def_library.py:263: colocate_with (from tensorflow.python.framework.ops) is deprecated and will be removed in a future version.\n",
            "Instructions for updating:\n",
            "Colocations handled automatically by placer.\n",
            "_________________________________________________________________\n",
            "Layer (type)                 Output Shape              Param #   \n",
            "=================================================================\n",
            "dense_1 (Dense)              (None, 10)                24370     \n",
            "_________________________________________________________________\n",
            "dense_2 (Dense)              (None, 5)                 55        \n",
            "=================================================================\n",
            "Total params: 24,425\n",
            "Trainable params: 24,425\n",
            "Non-trainable params: 0\n",
            "_________________________________________________________________\n",
            "WARNING:tensorflow:From /usr/local/lib/python3.6/dist-packages/tensorflow/python/ops/math_ops.py:3066: to_int32 (from tensorflow.python.ops.math_ops) is deprecated and will be removed in a future version.\n",
            "Instructions for updating:\n",
            "Use tf.cast instead.\n",
            "Train on 1586588 samples, validate on 490 samples\n",
            "Epoch 1/5\n",
            "1586588/1586588 [==============================] - 106s 67us/step - loss: 0.6334 - acc: 0.6454 - val_loss: 2.9057 - val_acc: 0.5714\n",
            "Epoch 2/5\n",
            "1586588/1586588 [==============================] - 104s 66us/step - loss: 0.5631 - acc: 0.7032 - val_loss: 3.1639 - val_acc: 0.5857\n",
            "Epoch 3/5\n",
            "1586588/1586588 [==============================] - 101s 64us/step - loss: 0.5579 - acc: 0.7053 - val_loss: 3.3431 - val_acc: 0.5918\n",
            "Epoch 4/5\n",
            "1586588/1586588 [==============================] - 102s 64us/step - loss: 0.5555 - acc: 0.7063 - val_loss: 3.4418 - val_acc: 0.6061\n",
            "Epoch 5/5\n",
            "1586588/1586588 [==============================] - 109s 69us/step - loss: 0.5540 - acc: 0.7070 - val_loss: 3.5053 - val_acc: 0.6020\n",
            "\n",
            "1586588/1586588 [==============================] - 70s 44us/step\n",
            "Training Accuracy: 0.7089\n",
            "490/490 [==============================] - 0s 53us/step\n",
            "Testing Accuracy:  0.6020\n"
          ],
          "name": "stdout"
        }
      ]
    },
    {
      "cell_type": "markdown",
      "metadata": {
        "id": "QMfNUwXJ6YTJ"
      },
      "source": [
        "Question 3: Evaluation"
      ]
    },
    {
      "cell_type": "code",
      "metadata": {
        "id": "mEcIwm1A1Sjr",
        "colab": {
          "base_uri": "https://localhost:8080/",
          "height": 535
        },
        "outputId": "7a9a3962-45c4-4a39-85f4-e54b8cccaa61"
      },
      "source": [
        "from sklearn import metrics\n",
        "from numpy import argmax\n",
        "import matplotlib.pyplot as plt\n",
        "import numpy as np\n",
        "\n",
        "\n",
        "y_pred = model.predict_classes( x_test )\n",
        "y_test = np.argmax( y_test, axis=1 )\n",
        "\n",
        "report = metrics.classification_report( y_test, y_pred)\n",
        "print( report )\n",
        "\n",
        "fpr, tpr, threshold = metrics.roc_curve( y_test, y_pred, pos_label=4)\n",
        "roc_auc = metrics.auc(fpr, tpr)\n",
        "\n",
        "plt.figure()\n",
        "plt.plot(fpr, tpr, color='darkorange', lw=1, label='ROC curve (area = %0.2f)' % roc_auc)\n",
        "plt.plot([0, 1], [0, 1], color='navy', linestyle='--')\n",
        "plt.xlim([0.0, 1.0])\n",
        "plt.ylim([0.0, 1.05])\n",
        "plt.xlabel('False Positive Rate')\n",
        "plt.ylabel('True Positive Rate')\n",
        "plt.title('Receiver operating characteristic')\n",
        "plt.legend(loc=\"lower right\")\n",
        "\n",
        "plt.show()"
      ],
      "execution_count": null,
      "outputs": [
        {
          "output_type": "stream",
          "text": [
            "/usr/local/lib/python3.6/dist-packages/sklearn/metrics/classification.py:1143: UndefinedMetricWarning: Precision and F-score are ill-defined and being set to 0.0 in labels with no predicted samples.\n",
            "  'precision', 'predicted', average, warn_for)\n"
          ],
          "name": "stderr"
        },
        {
          "output_type": "stream",
          "text": [
            "              precision    recall  f1-score   support\n",
            "\n",
            "           0       0.70      0.84      0.77       171\n",
            "           2       0.00      0.00      0.00       139\n",
            "           4       0.53      0.84      0.65       180\n",
            "\n",
            "   micro avg       0.60      0.60      0.60       490\n",
            "   macro avg       0.41      0.56      0.47       490\n",
            "weighted avg       0.44      0.60      0.51       490\n",
            "\n"
          ],
          "name": "stdout"
        },
        {
          "output_type": "display_data",
          "data": {
            "image/png": "[encoded data removed]",
            "text/plain": [
              "<Figure size 432x288 with 1 Axes>"
            ]
          },
          "metadata": {
            "tags": []
          }
        }
      ]
    }
  ]
}